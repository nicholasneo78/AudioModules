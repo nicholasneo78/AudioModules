{
 "cells": [
  {
   "cell_type": "code",
   "execution_count": 68,
   "id": "e2531b78-347f-46be-af0c-30693c8e6b2e",
   "metadata": {},
   "outputs": [],
   "source": [
    "from scipy.stats import norm\n",
    "import scipy.signal as sig\n",
    "from scipy.io import wavfile\n",
    "import copy\n",
    "import os\n",
    "import random\n",
    "from pydub import AudioSegment\n",
    "from pydub.utils import make_chunks\n",
    "from tqdm import tqdm\n",
    "import numpy as np"
   ]
  },
  {
   "cell_type": "code",
   "execution_count": 2,
   "id": "aa07512e-7ad7-4829-9d98-ea4ddb37d786",
   "metadata": {},
   "outputs": [],
   "source": [
    "# create a folder for the CH 10 sampled audio"
   ]
  },
  {
   "cell_type": "code",
   "execution_count": 3,
   "id": "0ab10e9e-61f2-48c8-8a65-f2bc314f3b98",
   "metadata": {},
   "outputs": [
    {
     "data": {
      "text/plain": [
       "['mms_20220417',\n",
       " 'mms_20220610',\n",
       " 'mms_20220520',\n",
       " 'mms_20220529',\n",
       " 'mms_20220430',\n",
       " 'mms_20220501',\n",
       " 'mms_20220404']"
      ]
     },
     "execution_count": 3,
     "metadata": {},
     "output_type": "execute_result"
    }
   ],
   "source": [
    "# get the root dir first\n",
    "ROOT_DIR = '/preproc/datasets_silence_removed/mms_batch_1'\n",
    "subdir = os.listdir(ROOT_DIR)\n",
    "subdir"
   ]
  },
  {
   "cell_type": "code",
   "execution_count": 4,
   "id": "a6130526-d1b8-455f-acbb-d4ceb31e50d1",
   "metadata": {},
   "outputs": [
    {
     "data": {
      "text/plain": [
       "['0000000997_CHDIR_495_2022-04-17_19_16_56_0.wav',\n",
       " '0000001226_CHDIR_495_2022-04-17_23_32_39_17.wav',\n",
       " '0000000239_CHDIR_495_2022-04-17_04_42_58_6.wav',\n",
       " '0000000056_CHDIR_495_2022-04-17_01_00_29_0.wav',\n",
       " '0000001200_CHDIR_495_2022-04-17_22_59_16_4.wav']"
      ]
     },
     "execution_count": 4,
     "metadata": {},
     "output_type": "execute_result"
    }
   ],
   "source": [
    "os.listdir(ROOT_DIR+'/'+subdir[0]+'/CH 10')[:5]"
   ]
  },
  {
   "cell_type": "code",
   "execution_count": 5,
   "id": "b133ebac-d2d5-4174-ad35-8702563cdd6c",
   "metadata": {},
   "outputs": [
    {
     "data": {
      "text/plain": [
       "26492"
      ]
     },
     "execution_count": 5,
     "metadata": {},
     "output_type": "execute_result"
    }
   ],
   "source": [
    "# get the overall batch 1 CH 10 list with all the filepaths\n",
    "wavfile_list = []\n",
    "\n",
    "# sample 1000 audio files from each of the batch 1 CH 10 mms data\n",
    "for sub in subdir:\n",
    "    subroot_dir = f'{ROOT_DIR}/{sub}/CH 10/'\n",
    "    wavfile_list_one_date = [subroot_dir+s for s in os.listdir(f'{subroot_dir}') if s.endswith('.wav')]\n",
    "    wavfile_list.extend(wavfile_list_one_date)\n",
    "    \n",
    "len(wavfile_list)"
   ]
  },
  {
   "cell_type": "code",
   "execution_count": 6,
   "id": "5c54a536-be6a-4336-9801-f2c1eb5f0527",
   "metadata": {},
   "outputs": [
    {
     "data": {
      "text/plain": [
       "['/preproc/datasets_silence_removed/mms_batch_1/mms_20220520/CH 10/0000001264_CHDIR_495_2022-05-20_16_18_50_4.wav',\n",
       " '/preproc/datasets_silence_removed/mms_batch_1/mms_20220610/CH 10/0000001348_CHDIR_495_2022-06-09_16_31_38_0.wav',\n",
       " '/preproc/datasets_silence_removed/mms_batch_1/mms_20220529/CH 10/0000000078_CHDIR_495_2022-05-29_02_29_18_36.wav',\n",
       " '/preproc/datasets_silence_removed/mms_batch_1/mms_20220404/CH 10/0000000135_CHDIR_495_2022-04-04_02_38_39_9.wav',\n",
       " '/preproc/datasets_silence_removed/mms_batch_1/mms_20220520/CH 10/0000001026_CHDIR_495_2022-05-20_12_57_44_0.wav',\n",
       " '/preproc/datasets_silence_removed/mms_batch_1/mms_20220430/CH 10/0000000642_CHDIR_495_2022-04-30_17_37_15_9.wav',\n",
       " '/preproc/datasets_silence_removed/mms_batch_1/mms_20220404/CH 10/0000000806_CHDIR_495_2022-04-04_17_32_47_23.wav',\n",
       " '/preproc/datasets_silence_removed/mms_batch_1/mms_20220417/CH 10/0000000999_CHDIR_495_2022-04-17_19_20_51_5.wav',\n",
       " '/preproc/datasets_silence_removed/mms_batch_1/mms_20220404/CH 10/0000000507_CHDIR_495_2022-04-04_10_36_16_6.wav',\n",
       " '/preproc/datasets_silence_removed/mms_batch_1/mms_20220501/CH 10/0000000244_CHDIR_495_2022-05-01_07_27_04_7.wav']"
      ]
     },
     "execution_count": 6,
     "metadata": {},
     "output_type": "execute_result"
    }
   ],
   "source": [
    "# shuffle the list\n",
    "random.shuffle(wavfile_list)\n",
    "wavfile_list[:10]"
   ]
  },
  {
   "cell_type": "code",
   "execution_count": 7,
   "id": "88b3483e-a416-4c50-8f80-b2fe42e58a36",
   "metadata": {},
   "outputs": [
    {
     "data": {
      "text/plain": [
       "10"
      ]
     },
     "execution_count": 7,
     "metadata": {},
     "output_type": "execute_result"
    }
   ],
   "source": [
    "## split into batches of 2.5k audio -> 10 batches\n",
    "SIZE = 2500\n",
    "BATCH = 10\n",
    "wavfile_batch_list = []\n",
    "for batch_num in range(BATCH):\n",
    "    wavfile_batch = wavfile_list[batch_num*SIZE: (batch_num+1)*SIZE]\n",
    "    wavfile_batch_list.append(wavfile_batch)\n",
    "    \n",
    "len(wavfile_batch_list)"
   ]
  },
  {
   "cell_type": "code",
   "execution_count": null,
   "id": "fe55bea3-4dc0-4250-b20d-00b17f9ec1f9",
   "metadata": {},
   "outputs": [
    {
     "data": {
      "text/plain": [
       "'/preproc/datasets_silence_removed/mms_batch_1/mms_20220520/CH 10/0000001264_CHDIR_495_2022-05-20_16_18_50_4.wav'"
      ]
     },
     "execution_count": 8,
     "metadata": {},
     "output_type": "execute_result"
    }
   ],
   "source": [
    "wavfile_batch_list[0][0]"
   ]
  },
  {
   "cell_type": "code",
   "execution_count": 146,
   "id": "336b3efc-de3c-4762-b91e-387933984327",
   "metadata": {},
   "outputs": [],
   "source": []
  },
  {
   "cell_type": "code",
   "execution_count": 153,
   "id": "4b4e4b72-065b-4950-af18-acde945505d1",
   "metadata": {},
   "outputs": [
    {
     "name": "stderr",
     "output_type": "stream",
     "text": [
      "933it [00:32, 29.03it/s] \n",
      "934it [00:29, 31.40it/s] \n"
     ]
    }
   ],
   "source": [
    "# concat the audio files together\n",
    "sample_sliced_list = []\n",
    "for i in range(2):\n",
    "    for idx, audio in tqdm(enumerate(wavfile_batch_list[i])):\n",
    "        if idx == 0:\n",
    "            sound = AudioSegment.from_wav(audio)\n",
    "        else:\n",
    "            sound += AudioSegment.from_wav(audio)\n",
    "\n",
    "        # if over 1hr, break\n",
    "        if sound.duration_seconds > 1*60*60:\n",
    "            break\n",
    "\n",
    "    # convert the AudioSegment object into the sound array \n",
    "    sample = sound.get_array_of_samples()\n",
    "\n",
    "    # get the first one hr of audio by slicing according to the sampling rate\n",
    "    SAMPLING_RATE = 16000\n",
    "    sample_sliced = sample[:SAMPLING_RATE*3600]\n",
    "    sample_sliced_list.append(sample_sliced)"
   ]
  },
  {
   "cell_type": "code",
   "execution_count": 154,
   "id": "512df5f8-a2e1-40fb-b04e-3ad25301c455",
   "metadata": {},
   "outputs": [
    {
     "data": {
      "text/plain": [
       "(57600000, 57600000)"
      ]
     },
     "execution_count": 154,
     "metadata": {},
     "output_type": "execute_result"
    }
   ],
   "source": [
    "len(sample_sliced_list[0]), len(sample_sliced_list[1])"
   ]
  },
  {
   "cell_type": "code",
   "execution_count": 147,
   "id": "90a6e33e-4a1b-49a4-ad7f-f0f9eaee8d92",
   "metadata": {},
   "outputs": [
    {
     "data": {
      "text/plain": [
       "<_io.BufferedRandom name='audio_chunk.wav'>"
      ]
     },
     "execution_count": 147,
     "metadata": {},
     "output_type": "execute_result"
    }
   ],
   "source": [
    "sound.export('audio_chunk.wav', format='wav')"
   ]
  },
  {
   "cell_type": "code",
   "execution_count": null,
   "id": "f6c1e44a-a578-4b95-87e1-ee68e461ec10",
   "metadata": {},
   "outputs": [],
   "source": []
  },
  {
   "cell_type": "code",
   "execution_count": 163,
   "id": "f2a7dc21-d44c-4058-baf7-93ec12fa18d5",
   "metadata": {},
   "outputs": [
    {
     "data": {
      "text/plain": [
       "<_io.BufferedRandom name='/preproc/batched_1_hr_audio/CH14_batch_0_upsampled.wav'>"
      ]
     },
     "execution_count": 163,
     "metadata": {},
     "output_type": "execute_result"
    }
   ],
   "source": [
    "# specially for CH 14 to upsample till 1hr\n",
    "sound = AudioSegment.from_wav('/preproc/batched_1_hr_audio/CH14_batch_0.wav')\n",
    "while True:\n",
    "    if sound.duration_seconds > 1*60*60:\n",
    "        break\n",
    "    sound += sound\n",
    "    \n",
    "sound.export('/preproc/batched_1_hr_audio/CH14_batch_0_upsampled.wav', format='wav')"
   ]
  },
  {
   "cell_type": "code",
   "execution_count": null,
   "id": "8348cce8-ee48-43f5-bdac-52b56372bff4",
   "metadata": {},
   "outputs": [],
   "source": []
  },
  {
   "cell_type": "code",
   "execution_count": null,
   "id": "62e2b22b-aa88-4e02-9cda-2b3e052d1bda",
   "metadata": {},
   "outputs": [],
   "source": []
  },
  {
   "cell_type": "code",
   "execution_count": 141,
   "id": "5684d3c5-e8e2-4d6b-9836-b41b0d027758",
   "metadata": {},
   "outputs": [],
   "source": [
    "# helper function to get the SNR from the 'cleaned' audio --> taking CH 10 as the baseline\n",
    "def signalPower(x):\n",
    "    return np.average(x**2)\n",
    "\n",
    "def SNRsystem(inputSig, outputSig):\n",
    "    noise = outputSig-inputSig\n",
    "    powS = signalPower(outputSig)\n",
    "    powN = signalPower(noise)\n",
    "    print(powS, powN)\n",
    "    print((powS-powN)/powN)\n",
    "    print(np.abs((powS-powN)/powN))\n",
    "    return 10*np.log10(np.abs((powS-powN)/powN))"
   ]
  },
  {
   "cell_type": "code",
   "execution_count": 144,
   "id": "26a9ca05-c7c6-43e1-9743-7258607e3952",
   "metadata": {},
   "outputs": [
    {
     "name": "stdout",
     "output_type": "stream",
     "text": [
      "3223664.6499034897 237977.0019732118\n",
      "12.546118419738585\n",
      "12.546118419738585\n"
     ]
    },
    {
     "data": {
      "text/plain": [
       "10.985093824198952"
      ]
     },
     "execution_count": 144,
     "metadata": {},
     "output_type": "execute_result"
    }
   ],
   "source": [
    "# test out the functions of the snr first\n",
    "snr = SNRsystem(np.array(sample_sliced_list[0]), np.array(sample_sliced_list[1]))\n",
    "snr"
   ]
  },
  {
   "cell_type": "code",
   "execution_count": null,
   "id": "43e221d7-432e-4aa5-8925-f3e90557005d",
   "metadata": {},
   "outputs": [],
   "source": []
  }
 ],
 "metadata": {
  "kernelspec": {
   "display_name": "Python 3 (ipykernel)",
   "language": "python",
   "name": "python3"
  },
  "language_info": {
   "codemirror_mode": {
    "name": "ipython",
    "version": 3
   },
   "file_extension": ".py",
   "mimetype": "text/x-python",
   "name": "python",
   "nbconvert_exporter": "python",
   "pygments_lexer": "ipython3",
   "version": "3.8.12"
  }
 },
 "nbformat": 4,
 "nbformat_minor": 5
}
